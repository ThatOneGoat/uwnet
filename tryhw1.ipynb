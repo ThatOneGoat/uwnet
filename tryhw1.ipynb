{
 "cells": [
  {
   "cell_type": "code",
   "execution_count": null,
   "metadata": {},
   "outputs": [],
   "source": [
    "from uwnet import *\n",
    "\n",
    "def conv_net():\n",
    "    l = [   make_convolutional_layer(32, 32, 3, 8, 3, 1),\n",
    "            make_activation_layer(RELU),\n",
    "            make_maxpool_layer(32, 32, 8, 3, 2),\n",
    "            make_convolutional_layer(16, 16, 8, 16, 3, 1),\n",
    "            make_activation_layer(RELU),\n",
    "            make_maxpool_layer(16, 16, 16, 3, 2),\n",
    "            make_convolutional_layer(8, 8, 16, 32, 3, 1),\n",
    "            make_activation_layer(RELU),\n",
    "            make_maxpool_layer(8, 8, 32, 3, 2),\n",
    "            make_convolutional_layer(4, 4, 32, 64, 3, 1),\n",
    "            make_activation_layer(RELU),\n",
    "            make_maxpool_layer(4, 4, 64, 3, 2),\n",
    "            make_connected_layer(256, 10),\n",
    "            make_activation_layer(SOFTMAX)]\n",
    "    return make_net(l)\n",
    "def fc_net():\n",
    "    l = [   make_connected_layer(3072, 289),\n",
    "            make_activation_layer(RELU),\n",
    "            make_connected_layer(289, 256),\n",
    "            make_activation_layer(RELU),\n",
    "            make_connected_layer(256, 200),\n",
    "            make_activation_layer(RELU),\n",
    "            make_connected_layer(200, 196),\n",
    "            make_activation_layer(RELU),\n",
    "            make_connected_layer(196, 157),\n",
    "            make_activation_layer(RELU),\n",
    "            make_connected_layer(157, 152),\n",
    "            make_activation_layer(RELU),\n",
    "            make_connected_layer(152, 10),\n",
    "            make_activation_layer(SOFTMAX)]\n",
    "    return make_net(l)"
   ]
  }
 ],
 "metadata": {
  "language_info": {
   "name": "plaintext"
  },
  "orig_nbformat": 4
 },
 "nbformat": 4,
 "nbformat_minor": 2
}
